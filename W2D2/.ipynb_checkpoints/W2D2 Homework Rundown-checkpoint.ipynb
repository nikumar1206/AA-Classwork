{
 "cells": [
  {
   "cell_type": "markdown",
   "id": "50f87466",
   "metadata": {},
   "source": [
    "## File Management"
   ]
  },
  {
   "cell_type": "markdown",
   "id": "b2055b86",
   "metadata": {},
   "source": [
    "In the future, it is unlikely all code is stored in one .rb file. most directories will look like this \n",
    "parent dir --> multiple rb files\n",
    "to connect these rb files use"
   ]
  },
  {
   "cell_type": "code",
   "execution_count": null,
   "id": "75e539d8",
   "metadata": {},
   "outputs": [],
   "source": [
    "require relative \"./cat.rb\"\n",
    "require # for gems only"
   ]
  },
  {
   "cell_type": "markdown",
   "id": "814034ca",
   "metadata": {},
   "source": [
    "## User Input"
   ]
  },
  {
   "cell_type": "code",
   "execution_count": null,
   "id": "08d1f6bb",
   "metadata": {},
   "outputs": [],
   "source": [
    "gets # retreives user input, but will contain \\n at the end\n",
    "gets.chomp # removes \\n at the ends of an array"
   ]
  },
  {
   "cell_type": "markdown",
   "id": "44ace801",
   "metadata": {},
   "source": [
    "# OOP Fundamentals"
   ]
  },
  {
   "cell_type": "markdown",
   "id": "81f1d3f7",
   "metadata": {},
   "source": [
    "## Abstraction\n",
    "Basically says code needs to be segmented in a way that is readable and easy-to-use and methods should hide the dirty work they do behind the scenes.\n"
   ]
  },
  {
   "cell_type": "markdown",
   "id": "f45642c2",
   "metadata": {},
   "source": [
    "## Encapsulation \n",
    "Code should only allow for functions that are necessary for the user. If an app is being used for viewing ur queue in line, the user should not be given the option to mutate the queue in any way."
   ]
  },
  {
   "cell_type": "markdown",
   "id": "f4916ce7",
   "metadata": {},
   "source": [
    "# Attr Methods"
   ]
  },
  {
   "cell_type": "code",
   "execution_count": null,
   "id": "63234bcc",
   "metadata": {},
   "outputs": [],
   "source": [
    "attr_reader :name, :age # quickly create getter functions\n",
    "attr_writer :name, :age # quickly create setter functions\n",
    "attr_accessor :name, :age # quickly do both"
   ]
  },
  {
   "cell_type": "markdown",
   "id": "51679647",
   "metadata": {},
   "source": [
    "# Syntactic Sugar"
   ]
  },
  {
   "cell_type": "markdown",
   "id": "7e9f3b84",
   "metadata": {},
   "source": [
    "Lets say you have a function that requires an index input []. Lets say we have a queue for a grocery_checkout. You need name of person at position 0. Would do this via:"
   ]
  },
  {
   "cell_type": "code",
   "execution_count": null,
   "id": "fa2edb33",
   "metadata": {},
   "outputs": [],
   "source": [
    "grocery_checkout.[](0) \n",
    "# instead do...\n",
    "grocery_checkout[0] # but to do this you must:\n",
    "def [](position)\n",
    "  @line[position]\n",
    "end\n",
    "\n",
    "  "
   ]
  }
 ],
 "metadata": {
  "kernelspec": {
   "display_name": "Ruby 3.1.1",
   "language": "ruby",
   "name": "ruby"
  },
  "language_info": {
   "file_extension": ".rb",
   "mimetype": "application/x-ruby",
   "name": "ruby",
   "version": "3.1.1"
  }
 },
 "nbformat": 4,
 "nbformat_minor": 5
}
