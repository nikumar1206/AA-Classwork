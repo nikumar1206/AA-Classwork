{
 "cells": [
  {
   "cell_type": "markdown",
   "id": "cba32dbc",
   "metadata": {},
   "source": [
    "## File Management"
   ]
  },
  {
   "cell_type": "markdown",
   "id": "c5714d1f",
   "metadata": {},
   "source": [
    "In the future, it is unlikely all code is stored in one .rb file. most directories will look like this \n",
    "parent dir --> multiple rb files\n",
    "to connect these rb files use"
   ]
  },
  {
   "cell_type": "code",
   "execution_count": null,
   "id": "21c76355",
   "metadata": {},
   "outputs": [],
   "source": [
    "require relative \"./cat.rb\"\n",
    "require # for gems only"
   ]
  },
  {
   "cell_type": "markdown",
   "id": "cd08258f",
   "metadata": {},
   "source": [
    "## User Input"
   ]
  },
  {
   "cell_type": "code",
   "execution_count": null,
   "id": "5300d945",
   "metadata": {},
   "outputs": [],
   "source": [
    "gets # retreives user input, but will contain \\n at the end\n",
    "gets.chomp # removes \\n at the ends of an array"
   ]
  },
  {
   "cell_type": "markdown",
   "id": "f3fd8448",
   "metadata": {},
   "source": [
    "# OOP Fundamentals"
   ]
  },
  {
   "cell_type": "markdown",
   "id": "b450cc66",
   "metadata": {},
   "source": [
    "## Abstraction\n",
    "Basically says code needs to be segmented in a way that is readable and easy-to-use and methods should hide the dirty work they do behind the scenes.\n"
   ]
  },
  {
   "cell_type": "markdown",
   "id": "0658100f",
   "metadata": {},
   "source": [
    "## Encapsulation \n",
    "Code should only allow for functions that are necessary for the user. If an app is being used for viewing ur queue in line, the user should not be given the option to mutate the queue in any way."
   ]
  },
  {
   "cell_type": "markdown",
   "id": "32ba4a95",
   "metadata": {},
   "source": [
    "# Attr Methods"
   ]
  },
  {
   "cell_type": "code",
   "execution_count": null,
   "id": "57d7d75d",
   "metadata": {},
   "outputs": [],
   "source": [
    "attr_reader :name, :age # quickly create getter functions\n",
    "attr_writer :name, :age # quickly create setter functions\n",
    "attr_accessor :name, :age # quickly do both"
   ]
  },
  {
   "cell_type": "markdown",
   "id": "022a1d43",
   "metadata": {},
   "source": [
    "# Syntactic Sugar"
   ]
  },
  {
   "cell_type": "markdown",
   "id": "e1be97d5",
   "metadata": {},
   "source": [
    "Lets say you have a function that requires an index input []. Lets say we have a queue for a grocery_checkout. You need name of person at position 0. Would do this via:"
   ]
  },
  {
   "cell_type": "code",
   "execution_count": null,
   "id": "07180904",
   "metadata": {},
   "outputs": [],
   "source": [
    "grocery_checkout.[](0) \n",
    "# instead do...\n",
    "grocery_checkout[0] # but to do this you must:\n",
    "def [](position)\n",
    "  @line[position]\n",
    "end\n",
    "def []=(position, ele)\n",
    "  @line[position] = ele\n",
    "end\n",
    "  # setter version"
   ]
  },
  {
   "cell_type": "markdown",
   "id": "ac45e8c0",
   "metadata": {},
   "source": [
    "# Exceptions and Error Handling"
   ]
  },
  {
   "cell_type": "code",
   "execution_count": null,
   "id": "717be9e6",
   "metadata": {},
   "outputs": [],
   "source": [
    "begin\n",
    "  # try this one out first\n",
    "rescue\n",
    "  # if that doesnt work try this one\n",
    "else\n",
    "  # if no errors\n",
    "ensure\n",
    "  # always run this\n",
    "end\n",
    "#the 4 horsemen of Doom\n",
    "\n",
    "## Two main argument errors\n",
    "raise ArgumentError.new()\n",
    "raise RuntimeError.new()"
   ]
  }
 ],
 "metadata": {
  "kernelspec": {
   "display_name": "Ruby 3.1.1",
   "language": "ruby",
   "name": "ruby"
  },
  "language_info": {
   "file_extension": ".rb",
   "mimetype": "application/x-ruby",
   "name": "ruby",
   "version": "3.1.1"
  }
 },
 "nbformat": 4,
 "nbformat_minor": 5
}
