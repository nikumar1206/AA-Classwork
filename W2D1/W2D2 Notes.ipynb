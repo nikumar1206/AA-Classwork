{
 "cells": [
  {
   "cell_type": "markdown",
   "id": "c47166b6",
   "metadata": {},
   "source": [
    "# Class Basics"
   ]
  },
  {
   "cell_type": "code",
   "execution_count": 4,
   "id": "8bf6dd14",
   "metadata": {},
   "outputs": [
    {
     "data": {
      "text/plain": [
       "\"Holly\""
      ]
     },
     "execution_count": 4,
     "metadata": {},
     "output_type": "execute_result"
    }
   ],
   "source": [
    "class Cat # must be capital\n",
    "  def initialize(name, color, age)\n",
    "    @name = name\n",
    "    @color = color\n",
    "    @age = age\n",
    "  end\n",
    "\n",
    "# initialize will describe the attributes of the class.\n",
    "cat_1 = Cat.new(\"Holly\", 'brown', 23) # new instance of the class, .new auto runs the initialize method\n",
    "  def name\n",
    "    @name\n",
    "  end\n",
    "# cat_1 = Cat.new(\"Holly\", 'brown', 23) \n",
    "# cat_1.name()\n",
    "# setter method\n",
    "  def age=(number)\n",
    "    @age = number\n",
    "end\n",
    "end\n",
    "# class variables will affect all instances of the variable that reside in the class. denoted using @@class_variable\n",
    "class Car\n",
    "  @@num_wheels = 4\n",
    "  NUM_WHEELS = 4 # class constant, cant be changed later on\n",
    "end\n",
    "# Instance methods\n",
    "def "
   ]
  },
  {
   "cell_type": "markdown",
   "id": "e6662bbd",
   "metadata": {},
   "source": [
    "# Git Commands"
   ]
  },
  {
   "cell_type": "code",
   "execution_count": null,
   "id": "8053ad26",
   "metadata": {},
   "outputs": [],
   "source": [
    "git init # creates a repo at current repository\n",
    "git status # shows changes between local machine and online git\n",
    "git branch -M main # creates the main branch, you can have demo/test branches as well. #renaming it from master to main\n",
    "git remote add origin "
   ]
  }
 ],
 "metadata": {
  "kernelspec": {
   "display_name": "Ruby 3.1.1",
   "language": "ruby",
   "name": "ruby"
  },
  "language_info": {
   "file_extension": ".rb",
   "mimetype": "application/x-ruby",
   "name": "ruby",
   "version": "3.1.1"
  }
 },
 "nbformat": 4,
 "nbformat_minor": 5
}
