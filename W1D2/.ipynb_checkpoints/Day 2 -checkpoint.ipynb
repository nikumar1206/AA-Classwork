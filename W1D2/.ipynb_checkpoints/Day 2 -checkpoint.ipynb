{
 "cells": [
  {
   "cell_type": "markdown",
   "id": "6eb58357",
   "metadata": {},
   "source": [
    "# Debugging Tools"
   ]
  },
  {
   "cell_type": "markdown",
   "id": "f0eaa9aa",
   "metadata": {},
   "source": [
    "## Rspec 3 key words\n",
    "1. describe -names the method\n",
    "2. it - expresses expected behavior\n",
    "3. expect - shows how behavior is tested (the actual code side) .to eq(), to_not raise_error()"
   ]
  },
  {
   "cell_type": "code",
   "execution_count": null,
   "id": "57b053b7",
   "metadata": {},
   "outputs": [],
   "source": [
    "bundle install #within project folder\n",
    "bundle exec rspec # runs rspec\n",
    "# quick breakdown given at top, details below. just go piece by piece and follow the instructions given."
   ]
  },
  {
   "cell_type": "markdown",
   "id": "e7a57dc6",
   "metadata": {},
   "source": [
    "## Pry Notes"
   ]
  },
  {
   "cell_type": "code",
   "execution_count": null,
   "id": "63358147",
   "metadata": {},
   "outputs": [],
   "source": [
    "ls (lists methods in context)\n",
    "ls String (to pull up documentation)\n",
    "ri (documentation)\n",
    "load \"rb file name\"\n",
    "cat (bash version of load)\n",
    ".(system cmd)\n"
   ]
  },
  {
   "cell_type": "markdown",
   "id": "37ec8379",
   "metadata": {},
   "source": [
    "## Bye Bug"
   ]
  },
  {
   "cell_type": "code",
   "execution_count": null,
   "id": "1ffc8f5b",
   "metadata": {},
   "outputs": [],
   "source": [
    "require 'byebug'\n",
    "debugger (stops code from running there)\n",
    "display variable_name (shows value of var)\n",
    "l 5-20 (start code line and stop code line)\n",
    "step (allows you to move on to the next method call)\n",
    "break 14 (stops execution line 14)\n",
    "continue (continues execution)\n"
   ]
  },
  {
   "cell_type": "markdown",
   "id": "1f0f1a31",
   "metadata": {},
   "source": [
    "## Blocks"
   ]
  },
  {
   "cell_type": "code",
   "execution_count": null,
   "id": "312e1087",
   "metadata": {},
   "outputs": [],
   "source": [
    "[\"a\", \"b\", \"c\"].map { |str| str.upcase }  #=> [\"A\", \"B\", \"C\"]\n",
    "[1, 2, 5].select { |num| num.odd? }       #=> [1, 5]\n",
    "[\"a\", \"b\", \"c\"].map(&:upcase) #=> [\"A\", \"B\", \"C\"]\n",
    "[1, 2, 5].select(&:odd?)      #=> [1, 5]\n",
    "& operator can be used to migrate a method into an object (no method into method for ruby)"
   ]
  },
  {
   "cell_type": "markdown",
   "id": "3f639005",
   "metadata": {},
   "source": [
    "## Procs"
   ]
  },
  {
   "cell_type": "code",
   "execution_count": null,
   "id": "2c643f4a",
   "metadata": {},
   "outputs": [],
   "source": [
    "doubler = Proc.new {|num| num * 2}\n",
    "# think of a proc as a wrapper around a block. block into proc variable into method\n",
    "p doubler.call(5) --> 10\n",
    "# as proc can be stored as a var, it can be thrown into a method as an argument.\n",
    "def add_and_proc(num_1, num_2, prc)\n",
    "  sum = num_1 + num_2\n",
    "  p prc.call(sum)\n",
    "end\n",
    "\n",
    "doubler = Proc.new { |num| num * 2 }\n",
    "add_and_proc(1, 4, doubler)   # => 10\n",
    "\n",
    "square = Proc.new { |num| num * num }\n",
    "add_and_proc(3, 6, square)    # => 81\n",
    "\n",
    "negate = Proc.new { |num| -1 * num }\n",
    "add_and_proc(3, 6, negate)    # => -9\n",
    "# these procs need to be created either manually as done here or through this beautiful automated method using &\n",
    "# &proc = block , &block = proc\n",
    "\n",
    "def my_method(prc)\n",
    "  # ...\n",
    "end\n",
    "\n",
    "# By looking at the parameter `prc` we know that my_method must be passed a proc:\n",
    "my_proc = Proc.new { \"I'm a block\" }\n",
    "my_method(my_proc)\n",
    "\n",
    "def my_method(&prc)\n",
    "  # ...\n",
    "end\n",
    "\n",
    "# By looking at the parameter `&prc` we know that my_method must be passed a block,\n",
    "# because & denotes conversion from block to proc here:\n",
    "my_method { \"I'm a block\" }"
   ]
  }
 ],
 "metadata": {
  "kernelspec": {
   "display_name": "Ruby 3.1.1",
   "language": "ruby",
   "name": "ruby"
  },
  "language_info": {
   "file_extension": ".rb",
   "mimetype": "application/x-ruby",
   "name": "ruby",
   "version": "3.1.1"
  }
 },
 "nbformat": 4,
 "nbformat_minor": 5
}
