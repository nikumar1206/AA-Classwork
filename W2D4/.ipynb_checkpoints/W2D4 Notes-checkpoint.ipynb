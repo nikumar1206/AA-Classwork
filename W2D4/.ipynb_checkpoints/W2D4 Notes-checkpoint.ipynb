{
 "cells": [
  {
   "cell_type": "markdown",
   "id": "857749d8",
   "metadata": {},
   "source": [
    "# Recursion"
   ]
  },
  {
   "cell_type": "code",
   "execution_count": null,
   "id": "9fa395eb",
   "metadata": {},
   "outputs": [],
   "source": [
    "def count_down(num)\n",
    "    # base case ; this will stop recursion from continuing\n",
    "    if num == 0\n",
    "        p \"Houston, we have lift-off!\"\n",
    "        return;\n",
    "    end\n",
    "\n",
    "    p num\n",
    "    # recursive step #where the function is called again\n",
    "    count_down(num - 1)\n",
    "end\n"
   ]
  },
  {
   "cell_type": "markdown",
   "id": "8fad56ab",
   "metadata": {},
   "source": [
    "# Spaceship Operator"
   ]
  },
  {
   "cell_type": "code",
   "execution_count": null,
   "id": "b8246bc9",
   "metadata": {},
   "outputs": [],
   "source": [
    "a <=> b\n",
    "# will return -1 if b is greater\n",
    "# 0 if equal\n",
    "# 1 if a is greater "
   ]
  },
  {
   "cell_type": "markdown",
   "id": "7815e992",
   "metadata": {},
   "source": [
    "# Nil as Falsey"
   ]
  },
  {
   "cell_type": "markdown",
   "id": "6a1b8a15",
   "metadata": {},
   "source": [
    "We have an incomplete understanding of the && || operators. \n",
    "Every value in ruby is truthy or falsy. falsy --> false or nil. everything else truthy\n",
    "So a || b basically says: if a is truthy, return a. if a is falsey return b."
   ]
  },
  {
   "cell_type": "code",
   "execution_count": null,
   "id": "21bac730",
   "metadata": {},
   "outputs": [],
   "source": [
    "def greet(person = nil)\n",
    "    person ||= \"you\"\n",
    "    p \"Hey \" + person\n",
    "end\n",
    "\n",
    "greet(\"Brian\")  # => \"Hey Brian\"\n",
    "greet           # => \"Hey you\"\n",
    "# here ||= is being used like += shorthand"
   ]
  },
  {
   "cell_type": "code",
   "execution_count": null,
   "id": "c44c4789",
   "metadata": {},
   "outputs": [],
   "source": [
    "def call_that_proc(val, &prc)\n",
    "    prc ||= Proc.new { |data| data.upcase + \"!!\" }\n",
    "    prc.call(val)\n",
    "end\n",
    "\n",
    "p call_that_proc(\"hey\")                                             # => \"HEY!!\"\n",
    "p call_that_proc(\"programmers\") { |data| data * 3 }                 # => \"programmersprogrammersprogrammers\"\n",
    "p call_that_proc(\"code\") { |data| \"--\" + data.capitalize + \"--\"}    # => \"--Code--\"\n",
    "# here we see that the default proc isn't created. the .upcase will only run if no prc is given.\n"
   ]
  },
  {
   "cell_type": "markdown",
   "id": "d1568cc1",
   "metadata": {},
   "source": [
    "Below we have <strong>lazy initation </strong>. This is when objects are not created until they are called upon. Lets's imagine in the example below that menu was a memory intensive variable. It's value cannot be accessed as part of the class until the method is run."
   ]
  },
  {
   "cell_type": "code",
   "execution_count": null,
   "id": "b0a0be36",
   "metadata": {},
   "outputs": [],
   "source": [
    "class Restaurant\n",
    "    attr_accessor :name, :chefs, :menu\n",
    "\n",
    "    def initialize(name, chefs)\n",
    "        @name = name\n",
    "        @chefs = chefs\n",
    "    end\n",
    "\n",
    "    def menu\n",
    "        @menu ||= [\"sammies\", \"big ol' cookies\", \"bean blankies\", \"chicky catch\", \"super water\"]\n",
    "    end\n",
    "end\n",
    "\n",
    "five_star_restaurant = Restaurant.new(\"Appetizer Academy\", [\"Marta\", \"Jon\", \"Soon-Mi\"])\n",
    "\n",
    "p five_star_restaurant\n",
    "#<Restaurant:0x00007f90b3922368 \n",
    "# @name=\"Appetizer Academy\",\n",
    "# @chefs=[\"Marta\", \"Jon\", \"Soon-Mi\"]\n",
    "#>\n",
    "\n",
    "p five_star_restaurant.menu\n",
    "#[\"sammies\", \"big ol' cookies\", \"bean blankies\", \"chicky catch\", \"super water\"]\n",
    "\n"
   ]
  }
 ],
 "metadata": {
  "kernelspec": {
   "display_name": "Ruby 3.1.1",
   "language": "ruby",
   "name": "ruby"
  },
  "language_info": {
   "file_extension": ".rb",
   "mimetype": "application/x-ruby",
   "name": "ruby",
   "version": "3.1.1"
  }
 },
 "nbformat": 4,
 "nbformat_minor": 5
}
